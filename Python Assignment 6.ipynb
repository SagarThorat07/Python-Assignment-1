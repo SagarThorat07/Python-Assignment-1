{
 "cells": [
  {
   "cell_type": "markdown",
   "id": "10156323",
   "metadata": {},
   "source": [
    "1. What are escape characters, and how do you use them?"
   ]
  },
  {
   "cell_type": "markdown",
   "id": "3ece5b8b",
   "metadata": {},
   "source": [
    "Ans: Escape sequence allows you to include special characters in the string\n",
    "    \n",
    "    It is represented by(\\)\n",
    "    For example imagine you initialized a string with single quote"
   ]
  },
  {
   "cell_type": "code",
   "execution_count": 2,
   "id": "922ef645",
   "metadata": {},
   "outputs": [
    {
     "name": "stdout",
     "output_type": "stream",
     "text": [
      "Hey, whats up?\n"
     ]
    }
   ],
   "source": [
    "s = 'Hey, whats up?'\n",
    "print(s)"
   ]
  },
  {
   "cell_type": "markdown",
   "id": "2db6f39c",
   "metadata": {},
   "source": [
    "But if you include an apostrophe without escaping it, then you will get an error:"
   ]
  },
  {
   "cell_type": "code",
   "execution_count": 3,
   "id": "79ab78fe",
   "metadata": {},
   "outputs": [
    {
     "ename": "SyntaxError",
     "evalue": "invalid syntax (Temp/ipykernel_13220/4186274551.py, line 1)",
     "output_type": "error",
     "traceback": [
      "\u001b[1;36m  File \u001b[1;32m\"C:\\Users\\Sagar\\AppData\\Local\\Temp/ipykernel_13220/4186274551.py\"\u001b[1;36m, line \u001b[1;32m1\u001b[0m\n\u001b[1;33m    s = 'Hey, what's up?'\u001b[0m\n\u001b[1;37m                   ^\u001b[0m\n\u001b[1;31mSyntaxError\u001b[0m\u001b[1;31m:\u001b[0m invalid syntax\n"
     ]
    }
   ],
   "source": [
    "s = 'Hey, what's up?'\n",
    "print(s)"
   ]
  },
  {
   "cell_type": "markdown",
   "id": "9c74161a",
   "metadata": {},
   "source": [
    "To fix this, just escape the apostrophe:"
   ]
  },
  {
   "cell_type": "code",
   "execution_count": 4,
   "id": "b256908d",
   "metadata": {},
   "outputs": [
    {
     "name": "stdout",
     "output_type": "stream",
     "text": [
      "Hey, what's up?\n"
     ]
    }
   ],
   "source": [
    "s = 'Hey, what\\'s up?'\n",
    "print(s)"
   ]
  },
  {
   "cell_type": "markdown",
   "id": "5bf5ceb9",
   "metadata": {},
   "source": [
    "To add newlines to your string, use \\n:\n",
    "\n"
   ]
  },
  {
   "cell_type": "code",
   "execution_count": 5,
   "id": "7e5392b2",
   "metadata": {},
   "outputs": [
    {
     "name": "stdout",
     "output_type": "stream",
     "text": [
      "Multiline strings\n",
      "can be created\n",
      "using escape sequences.\n"
     ]
    }
   ],
   "source": [
    "print(\"Multiline strings\\ncan be created\\nusing escape sequences.\")\n"
   ]
  },
  {
   "cell_type": "markdown",
   "id": "10085e71",
   "metadata": {},
   "source": [
    "2. What do the escape characters n and t stand for?"
   ]
  },
  {
   "cell_type": "markdown",
   "id": "64f6caa6",
   "metadata": {},
   "source": [
    "Ans: (\\t) is tab\n",
    "    \n",
    "     (\\n) is new line"
   ]
  },
  {
   "cell_type": "markdown",
   "id": "7b0b102c",
   "metadata": {},
   "source": [
    "3. What is the way to include backslash characters in a string?"
   ]
  },
  {
   "cell_type": "code",
   "execution_count": 6,
   "id": "543f3296",
   "metadata": {},
   "outputs": [
    {
     "name": "stdout",
     "output_type": "stream",
     "text": [
      "its a back slash \\ in a line\n"
     ]
    }
   ],
   "source": [
    "print('its a back slash \\\\ in a line')\n"
   ]
  },
  {
   "cell_type": "markdown",
   "id": "59c2cd29",
   "metadata": {},
   "source": [
    "4. The string \"Howl's Moving Castle\" is a correct value. Why isn't the single quote character in the word Howl's not escaped a problem?"
   ]
  },
  {
   "cell_type": "markdown",
   "id": "92611327",
   "metadata": {},
   "source": [
    "Ans: The single quote in Howl's is a correct value because we have used double quote to start and end the string.\n",
    "    \n",
    "    Similarly we can use double quote in single quote"
   ]
  },
  {
   "cell_type": "code",
   "execution_count": 7,
   "id": "25fea7ab",
   "metadata": {},
   "outputs": [
    {
     "name": "stdout",
     "output_type": "stream",
     "text": [
      "HowI's Moving Castle\n"
     ]
    }
   ],
   "source": [
    "print(\"HowI's Moving Castle\")"
   ]
  },
  {
   "cell_type": "code",
   "execution_count": 8,
   "id": "7b0d990f",
   "metadata": {},
   "outputs": [
    {
     "name": "stdout",
     "output_type": "stream",
     "text": [
      "Its a \"loving\" day\n"
     ]
    }
   ],
   "source": [
    "print('Its a \"loving\" day')"
   ]
  },
  {
   "cell_type": "markdown",
   "id": "6c19345c",
   "metadata": {},
   "source": [
    "5. How do you write a string of newlines if you don't want to use the n character?"
   ]
  },
  {
   "cell_type": "code",
   "execution_count": 9,
   "id": "9b134ca6",
   "metadata": {},
   "outputs": [
    {
     "name": "stdout",
     "output_type": "stream",
     "text": [
      "Hello world\n"
     ]
    }
   ],
   "source": [
    "print(\"Hello\", end = \" \")\n",
    "print(\"world\")"
   ]
  },
  {
   "cell_type": "markdown",
   "id": "7647586f",
   "metadata": {},
   "source": [
    "6. What are the values of the given expressions?\n",
    "\n",
    "\n",
    "'Hello, world!'[1]\n",
    "\n",
    "'Hello, world!'[0:5]\n",
    "\n",
    "'Hello, world!'[:5]\n",
    "\n",
    "'Hello, world!'[3:]\n"
   ]
  },
  {
   "cell_type": "code",
   "execution_count": 10,
   "id": "3cb00fb1",
   "metadata": {},
   "outputs": [
    {
     "data": {
      "text/plain": [
       "'e'"
      ]
     },
     "execution_count": 10,
     "metadata": {},
     "output_type": "execute_result"
    }
   ],
   "source": [
    "'Hello, world!'[1]"
   ]
  },
  {
   "cell_type": "code",
   "execution_count": 11,
   "id": "2c4da614",
   "metadata": {},
   "outputs": [
    {
     "data": {
      "text/plain": [
       "'Hello'"
      ]
     },
     "execution_count": 11,
     "metadata": {},
     "output_type": "execute_result"
    }
   ],
   "source": [
    "'Hello, world!'[0:5]"
   ]
  },
  {
   "cell_type": "code",
   "execution_count": 12,
   "id": "adbec0e7",
   "metadata": {},
   "outputs": [
    {
     "data": {
      "text/plain": [
       "'Hello'"
      ]
     },
     "execution_count": 12,
     "metadata": {},
     "output_type": "execute_result"
    }
   ],
   "source": [
    "'Hello, world!'[:5]"
   ]
  },
  {
   "cell_type": "code",
   "execution_count": 13,
   "id": "c3a1ac59",
   "metadata": {},
   "outputs": [
    {
     "data": {
      "text/plain": [
       "'lo, world!'"
      ]
     },
     "execution_count": 13,
     "metadata": {},
     "output_type": "execute_result"
    }
   ],
   "source": [
    "'Hello, world!'[3:]"
   ]
  },
  {
   "cell_type": "markdown",
   "id": "811fbd0c",
   "metadata": {},
   "source": [
    "7. What are the values of the following expressions?\n",
    "\n",
    "'Hello'.upper()\n",
    "\n",
    "'Hello'.upper().isupper()\n",
    "\n",
    "'Hello'.upper().lower()\n"
   ]
  },
  {
   "cell_type": "code",
   "execution_count": 14,
   "id": "086c6da9",
   "metadata": {},
   "outputs": [
    {
     "data": {
      "text/plain": [
       "'HELLO'"
      ]
     },
     "execution_count": 14,
     "metadata": {},
     "output_type": "execute_result"
    }
   ],
   "source": [
    "'Hello'.upper()"
   ]
  },
  {
   "cell_type": "code",
   "execution_count": 15,
   "id": "0d4270ee",
   "metadata": {},
   "outputs": [
    {
     "data": {
      "text/plain": [
       "True"
      ]
     },
     "execution_count": 15,
     "metadata": {},
     "output_type": "execute_result"
    }
   ],
   "source": [
    "'Hello'.upper().isupper()"
   ]
  },
  {
   "cell_type": "code",
   "execution_count": 16,
   "id": "236e5e4a",
   "metadata": {},
   "outputs": [
    {
     "data": {
      "text/plain": [
       "'hello'"
      ]
     },
     "execution_count": 16,
     "metadata": {},
     "output_type": "execute_result"
    }
   ],
   "source": [
    "'Hello'.upper().lower()"
   ]
  },
  {
   "cell_type": "markdown",
   "id": "71cb2540",
   "metadata": {},
   "source": [
    "8. What are the values of the following expressions?\n",
    "\n",
    "'Remember, remember, the fifth of July.'.split()\n",
    "\n",
    "'-'.join('There can only one.'.split())\n"
   ]
  },
  {
   "cell_type": "code",
   "execution_count": 17,
   "id": "a6e267a9",
   "metadata": {},
   "outputs": [
    {
     "data": {
      "text/plain": [
       "['Remember,', 'remember,', 'the', 'fifth', 'of', 'July.']"
      ]
     },
     "execution_count": 17,
     "metadata": {},
     "output_type": "execute_result"
    }
   ],
   "source": [
    "'Remember, remember, the fifth of July.'.split()"
   ]
  },
  {
   "cell_type": "code",
   "execution_count": 18,
   "id": "825dbc0c",
   "metadata": {},
   "outputs": [
    {
     "data": {
      "text/plain": [
       "'There-can-only-one.'"
      ]
     },
     "execution_count": 18,
     "metadata": {},
     "output_type": "execute_result"
    }
   ],
   "source": [
    "'-'.join('There can only one.'.split())"
   ]
  },
  {
   "cell_type": "markdown",
   "id": "77abde2e",
   "metadata": {},
   "source": [
    "9. What are the methods for right-justifying, left-justifying, and centering a string?"
   ]
  },
  {
   "cell_type": "code",
   "execution_count": 19,
   "id": "360c54cd",
   "metadata": {},
   "outputs": [
    {
     "data": {
      "text/plain": [
       "'Sagar-----'"
      ]
     },
     "execution_count": 19,
     "metadata": {},
     "output_type": "execute_result"
    }
   ],
   "source": [
    "# left justified\n",
    "str =\"Sagar\"\n",
    "str.ljust(10,\"-\")"
   ]
  },
  {
   "cell_type": "code",
   "execution_count": 20,
   "id": "6082ddb5",
   "metadata": {},
   "outputs": [
    {
     "data": {
      "text/plain": [
       "'***********************************Sagar'"
      ]
     },
     "execution_count": 20,
     "metadata": {},
     "output_type": "execute_result"
    }
   ],
   "source": [
    "# right justified\n",
    "str =\"Sagar\"\n",
    "str.rjust(40,'*')"
   ]
  },
  {
   "cell_type": "code",
   "execution_count": 21,
   "id": "79adf207",
   "metadata": {},
   "outputs": [
    {
     "data": {
      "text/plain": [
       "'*****************Sagar******************'"
      ]
     },
     "execution_count": 21,
     "metadata": {},
     "output_type": "execute_result"
    }
   ],
   "source": [
    "# center justified\n",
    "str =\"Sagar\"\n",
    "str.center(40,'*')"
   ]
  },
  {
   "cell_type": "markdown",
   "id": "b5e59ccc",
   "metadata": {},
   "source": [
    "10. What is the best way to remove whitespace characters from the start or end?\n",
    "\n"
   ]
  },
  {
   "cell_type": "code",
   "execution_count": 22,
   "id": "da45dbb1",
   "metadata": {},
   "outputs": [
    {
     "data": {
      "text/plain": [
       "'gfgfgfgfgfgfgf yuyuyuuyuy  '"
      ]
     },
     "execution_count": 22,
     "metadata": {},
     "output_type": "execute_result"
    }
   ],
   "source": [
    "str =\"  gfgfgfgfgfgfgf yuyuyuuyuy  \"\n",
    "str.lstrip()"
   ]
  },
  {
   "cell_type": "code",
   "execution_count": 23,
   "id": "d86992cd",
   "metadata": {},
   "outputs": [
    {
     "data": {
      "text/plain": [
       "'  yytytytyyt mmamamam'"
      ]
     },
     "execution_count": 23,
     "metadata": {},
     "output_type": "execute_result"
    }
   ],
   "source": [
    "str =\"  yytytytyyt mmamamam  \"\n",
    "str.rstrip()"
   ]
  },
  {
   "cell_type": "code",
   "execution_count": null,
   "id": "711509ca",
   "metadata": {},
   "outputs": [],
   "source": []
  }
 ],
 "metadata": {
  "kernelspec": {
   "display_name": "Python 3 (ipykernel)",
   "language": "python",
   "name": "python3"
  },
  "language_info": {
   "codemirror_mode": {
    "name": "ipython",
    "version": 3
   },
   "file_extension": ".py",
   "mimetype": "text/x-python",
   "name": "python",
   "nbconvert_exporter": "python",
   "pygments_lexer": "ipython3",
   "version": "3.9.7"
  }
 },
 "nbformat": 4,
 "nbformat_minor": 5
}
