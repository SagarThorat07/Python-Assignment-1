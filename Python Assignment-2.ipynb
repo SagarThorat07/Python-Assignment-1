{
 "cells": [
  {
   "cell_type": "markdown",
   "id": "5d051441",
   "metadata": {},
   "source": [
    "1.What are the two values of the Boolean data type? How do you write them?"
   ]
  },
  {
   "cell_type": "markdown",
   "id": "106abd20",
   "metadata": {},
   "source": [
    "Ans: There are two values of Boolean data tye i.e True and False"
   ]
  },
  {
   "cell_type": "markdown",
   "id": "51ced34c",
   "metadata": {},
   "source": [
    "2. What are the three different types of Boolean operators?"
   ]
  },
  {
   "cell_type": "markdown",
   "id": "12bd950e",
   "metadata": {},
   "source": [
    "Ans: The three basic boolean operators are AND, OR, NOT"
   ]
  },
  {
   "cell_type": "markdown",
   "id": "d1ffbb4a",
   "metadata": {},
   "source": [
    "3. Make a list of each Boolean operator&#39;s truth tables (i.e. every possible combination of Boolean\n",
    "values for the operator and what it evaluate )."
   ]
  },
  {
   "cell_type": "code",
   "execution_count": 39,
   "id": "dc72a3c2",
   "metadata": {},
   "outputs": [
    {
     "ename": "SyntaxError",
     "evalue": "invalid syntax (Temp/ipykernel_13124/2061411343.py, line 1)",
     "output_type": "error",
     "traceback": [
      "\u001b[1;36m  File \u001b[1;32m\"C:\\Users\\Sagar\\AppData\\Local\\Temp/ipykernel_13124/2061411343.py\"\u001b[1;36m, line \u001b[1;32m1\u001b[0m\n\u001b[1;33m    Truth table for AND\u001b[0m\n\u001b[1;37m          ^\u001b[0m\n\u001b[1;31mSyntaxError\u001b[0m\u001b[1;31m:\u001b[0m invalid syntax\n"
     ]
    }
   ],
   "source": [
    "Truth table for AND\n",
    "\n",
    "  A     B     Output\n",
    "True   True    True\n",
    "True   False   False\n",
    "False  True    False\n",
    "False  False   False\n",
    "\n",
    "\n",
    "Truth Table for OR\n",
    "\n",
    " A      B     Output\n",
    "True   True    True\n",
    "True   False   True\n",
    "False  True    True\n",
    "False  False   False\n",
    "\n",
    "Truth Table for NOT\n",
    "\n",
    " A      B     \n",
    " 0      1\n",
    " 1      0\n"
   ]
  },
  {
   "cell_type": "markdown",
   "id": "05e142ba",
   "metadata": {},
   "source": [
    "The above error is kept purposefully so that the truth table is clearly visible."
   ]
  },
  {
   "cell_type": "markdown",
   "id": "d2be780e",
   "metadata": {},
   "source": [
    "4. What are the values of the following expressions?\n",
    "(5 &gt; 4) and (3 == 5)\n",
    "not (5 &gt; 4)\n",
    "(5 &gt; 4) or (3 == 5)\n",
    "not ((5 &gt; 4) or (3 == 5))\n",
    "(True and True) and (True == False)\n",
    "(not False) or (not True)"
   ]
  },
  {
   "cell_type": "markdown",
   "id": "a35b929d",
   "metadata": {},
   "source": [
    "(5 > 4) and (3 == 5)"
   ]
  },
  {
   "cell_type": "markdown",
   "id": "e498d4a5",
   "metadata": {},
   "source": [
    "(5 > 4) is True \n",
    "(3 == 5) is False\n",
    "therefore True AND False is False\n",
    "Hence answer is False"
   ]
  },
  {
   "cell_type": "markdown",
   "id": "836d12e7",
   "metadata": {},
   "source": [
    "not (5 > 4): (5 > 4) is True therefore NOT True is False, hence answer is False"
   ]
  },
  {
   "cell_type": "markdown",
   "id": "d26d17e0",
   "metadata": {},
   "source": [
    "not((5 > 4) or (3 == 5)): (5 > 4) or (3 ==5) is True hence not True is False, hence answer is False "
   ]
  },
  {
   "cell_type": "markdown",
   "id": "129d83b4",
   "metadata": {},
   "source": [
    "(True and True) and (True == False): (True and True ) is True, (True == False) is False, True and False is False, hence answer is False"
   ]
  },
  {
   "cell_type": "markdown",
   "id": "f869a0fa",
   "metadata": {},
   "source": [
    "(not False) or (not True): not False is True, not True is False, True or False is True, hence answer is True"
   ]
  },
  {
   "cell_type": "code",
   "execution_count": 42,
   "id": "d30ce64d",
   "metadata": {},
   "outputs": [
    {
     "data": {
      "text/plain": [
       "False"
      ]
     },
     "execution_count": 42,
     "metadata": {},
     "output_type": "execute_result"
    }
   ],
   "source": [
    "not (5 > 4)"
   ]
  },
  {
   "cell_type": "code",
   "execution_count": 43,
   "id": "222f583d",
   "metadata": {},
   "outputs": [
    {
     "data": {
      "text/plain": [
       "True"
      ]
     },
     "execution_count": 43,
     "metadata": {},
     "output_type": "execute_result"
    }
   ],
   "source": [
    "(5 > 4) or (3 == 5)"
   ]
  },
  {
   "cell_type": "code",
   "execution_count": 44,
   "id": "1ad0664f",
   "metadata": {},
   "outputs": [
    {
     "data": {
      "text/plain": [
       "False"
      ]
     },
     "execution_count": 44,
     "metadata": {},
     "output_type": "execute_result"
    }
   ],
   "source": [
    "not((5 > 4) or (3 == 5))"
   ]
  },
  {
   "cell_type": "code",
   "execution_count": 45,
   "id": "873d13d0",
   "metadata": {},
   "outputs": [
    {
     "data": {
      "text/plain": [
       "False"
      ]
     },
     "execution_count": 45,
     "metadata": {},
     "output_type": "execute_result"
    }
   ],
   "source": [
    "(True and True) and (True == False)"
   ]
  },
  {
   "cell_type": "code",
   "execution_count": 48,
   "id": "74a3c5c2",
   "metadata": {},
   "outputs": [
    {
     "data": {
      "text/plain": [
       "True"
      ]
     },
     "execution_count": 48,
     "metadata": {},
     "output_type": "execute_result"
    }
   ],
   "source": [
    "(not False) or (not True)"
   ]
  },
  {
   "cell_type": "markdown",
   "id": "ba70e258",
   "metadata": {},
   "source": [
    "5. What are the six comparison operators?"
   ]
  },
  {
   "cell_type": "markdown",
   "id": "3eca4b5a",
   "metadata": {},
   "source": [
    "Ans: ==,!=, <,>,>=,<="
   ]
  },
  {
   "cell_type": "markdown",
   "id": "eb87d873",
   "metadata": {},
   "source": [
    "6. How do you tell the difference between the equal to and assignment operators?Describe a\n",
    "condition and when you would use one."
   ]
  },
  {
   "cell_type": "markdown",
   "id": "e93134ed",
   "metadata": {},
   "source": [
    "Ans: == is equal operator is used to compair two values and evaluates to a Boolean, while = is assignment operator that stores the value in a variable"
   ]
  },
  {
   "cell_type": "code",
   "execution_count": 50,
   "id": "d2ef41e2",
   "metadata": {},
   "outputs": [
    {
     "name": "stdout",
     "output_type": "stream",
     "text": [
      "False\n",
      "a = 20\n"
     ]
    }
   ],
   "source": [
    "# Example\n",
    "\n",
    "# Equal to operator\n",
    "\n",
    "if (4 == 5):\n",
    "    print(\"True\")\n",
    "else:\n",
    "    print(\"False\")\n",
    "    \n",
    "# Assignment operator\n",
    "\n",
    "a = 20 # we ae usnig assignment operator to assign a value 20 to a variable a\n",
    "print(\"a =\", a)"
   ]
  },
  {
   "cell_type": "markdown",
   "id": "9155536b",
   "metadata": {},
   "source": [
    "7. Identify the three blocks in this code:"
   ]
  },
  {
   "cell_type": "code",
   "execution_count": 51,
   "id": "1a72d7d6",
   "metadata": {},
   "outputs": [
    {
     "name": "stdout",
     "output_type": "stream",
     "text": [
      "ham\n",
      "spam\n",
      "spam\n"
     ]
    }
   ],
   "source": [
    "\n",
    "spam = 0\n",
    "if spam == 10:\n",
    "    print('eggs') # Block 1\n",
    "if spam > 5:\n",
    "    print('bacon') # Block 2\n",
    "else:\n",
    "    print('ham')\n",
    "    print('spam')\n",
    "    print('spam')"
   ]
  },
  {
   "cell_type": "markdown",
   "id": "f5535694",
   "metadata": {},
   "source": [
    "Q8. Write code that prints Hello if 1 is stored in spam, prints Howdy if 2 is stored in spam, and prints Greetings! if anything else is stored in spam."
   ]
  },
  {
   "cell_type": "code",
   "execution_count": 52,
   "id": "75290709",
   "metadata": {},
   "outputs": [
    {
     "name": "stdout",
     "output_type": "stream",
     "text": [
      "Enter a number:3\n",
      "Greetings\n"
     ]
    }
   ],
   "source": [
    "spam = int(input(\"Enter a number:\"))\n",
    "if spam == 1:\n",
    "    print(\"Hello\")\n",
    "elif spam == 2:\n",
    "    print('Howdy')\n",
    "else:\n",
    "    print('Greetings')"
   ]
  },
  {
   "cell_type": "markdown",
   "id": "ef6bc499",
   "metadata": {},
   "source": [
    "Q9.If your programme is stuck in an endless loop, what keys you’ll press?"
   ]
  },
  {
   "cell_type": "markdown",
   "id": "7a526bcb",
   "metadata": {},
   "source": [
    "Ans: If a program is stuck in an endless loop will press ctrl+c,where c stands for cancel."
   ]
  },
  {
   "cell_type": "markdown",
   "id": "bed6c586",
   "metadata": {},
   "source": [
    "Q10. How can you tell the difference between break and continue?"
   ]
  },
  {
   "cell_type": "markdown",
   "id": "4da7951b",
   "metadata": {},
   "source": [
    "Ans: break: if the break statement is used inside a loop the current loop will get terminated and next loop will get executed"
   ]
  },
  {
   "cell_type": "markdown",
   "id": "6a952bf2",
   "metadata": {},
   "source": [
    "continue: continue statement skips the the code thatcomes after it and control is passed back to start for next iteration"
   ]
  },
  {
   "cell_type": "code",
   "execution_count": 55,
   "id": "4e5b7717",
   "metadata": {},
   "outputs": [
    {
     "name": "stdout",
     "output_type": "stream",
     "text": [
      "The number is 0 0\n",
      "The number is 0 1\n",
      "The number is 1 0\n",
      "The number is 1 1\n",
      "The number is 2 0\n",
      "The number is 2 1\n",
      "The number is 3 0\n",
      "The number is 3 1\n"
     ]
    }
   ],
   "source": [
    "# Example of break\n",
    "\n",
    "for i in range(4):\n",
    "    for j in range(4):\n",
    "        if j == 2:\n",
    "            break\n",
    "        print(\"The number is\", i, j)"
   ]
  },
  {
   "cell_type": "code",
   "execution_count": 56,
   "id": "1e001edc",
   "metadata": {},
   "outputs": [
    {
     "name": "stdout",
     "output_type": "stream",
     "text": [
      "The number is: 0\n",
      "The number is: 1\n",
      "The number is: 2\n",
      "The number is: 3\n",
      "The number is: 4\n",
      "The number is: 5\n",
      "The number is: 6\n",
      "The number is: 8\n",
      "The number is: 9\n"
     ]
    }
   ],
   "source": [
    "# Example of continue\n",
    "\n",
    "for i in range(10):\n",
    "    if i == 7:\n",
    "        continue\n",
    "    print(\"The number is:\",i)"
   ]
  },
  {
   "cell_type": "markdown",
   "id": "3d8bfb6a",
   "metadata": {},
   "source": [
    "Q11. In a for loop, what is the difference between range(10), range(0, 10), and range(0, 10, 1)?"
   ]
  },
  {
   "cell_type": "code",
   "execution_count": 57,
   "id": "b3aa8dbe",
   "metadata": {},
   "outputs": [
    {
     "name": "stdout",
     "output_type": "stream",
     "text": [
      "0\n",
      "1\n",
      "2\n",
      "3\n",
      "4\n",
      "5\n",
      "6\n",
      "7\n",
      "8\n",
      "9\n"
     ]
    }
   ],
   "source": [
    "for i in range(10):\n",
    "    print(i)"
   ]
  },
  {
   "cell_type": "code",
   "execution_count": 58,
   "id": "3b9798ce",
   "metadata": {},
   "outputs": [
    {
     "name": "stdout",
     "output_type": "stream",
     "text": [
      "0\n",
      "1\n",
      "2\n",
      "3\n",
      "4\n",
      "5\n",
      "6\n",
      "7\n",
      "8\n",
      "9\n"
     ]
    }
   ],
   "source": [
    "for i in range(0,10):\n",
    "    print(i)"
   ]
  },
  {
   "cell_type": "code",
   "execution_count": 59,
   "id": "e8e71b0f",
   "metadata": {},
   "outputs": [
    {
     "name": "stdout",
     "output_type": "stream",
     "text": [
      "0\n",
      "1\n",
      "2\n",
      "3\n",
      "4\n",
      "5\n",
      "6\n",
      "7\n",
      "8\n",
      "9\n"
     ]
    }
   ],
   "source": [
    "for i in range(0,10,1):\n",
    "    print(i)"
   ]
  },
  {
   "cell_type": "markdown",
   "id": "1d23e59e",
   "metadata": {},
   "source": [
    "We can see that all the three range functions give same output.(i) range(10): gives range from 0 to 10 but excluding 10\n",
    "    (ii) range(0,10): tells the loop to start from 0\n",
    "    (iii) range(0,10,1): it tells the loop to increase the variable by 1 by each iteration"
   ]
  },
  {
   "cell_type": "markdown",
   "id": "2b8f1cf0",
   "metadata": {},
   "source": [
    "Q12. Write a short program that prints the numbers 1 to 10 using a for loop. Then write an equivalent program that prints the numbers 1 to 10 using a while loop."
   ]
  },
  {
   "cell_type": "code",
   "execution_count": 61,
   "id": "5a9cb73f",
   "metadata": {},
   "outputs": [
    {
     "name": "stdout",
     "output_type": "stream",
     "text": [
      "1\n",
      "2\n",
      "3\n",
      "4\n",
      "5\n",
      "6\n",
      "7\n",
      "8\n",
      "9\n",
      "10\n"
     ]
    }
   ],
   "source": [
    "# Using for loop\n",
    "\n",
    "for i in range (1,11):\n",
    "    print(i)"
   ]
  },
  {
   "cell_type": "code",
   "execution_count": 62,
   "id": "bba330c7",
   "metadata": {},
   "outputs": [
    {
     "name": "stdout",
     "output_type": "stream",
     "text": [
      "1\n",
      "2\n",
      "3\n",
      "4\n",
      "5\n",
      "6\n",
      "7\n",
      "8\n",
      "9\n",
      "10\n"
     ]
    }
   ],
   "source": [
    "# Using while loop\n",
    "\n",
    "x = 1\n",
    "while x <= 10:\n",
    "    print(x)\n",
    "    x += 1"
   ]
  },
  {
   "cell_type": "markdown",
   "id": "844aa7e6",
   "metadata": {},
   "source": [
    "Q13. If you had a function named bacon() inside a module named spam, how would you call it after importing spam?"
   ]
  },
  {
   "cell_type": "markdown",
   "id": "5502cdb2",
   "metadata": {},
   "source": [
    "Ans: spam.bacon()"
   ]
  },
  {
   "cell_type": "code",
   "execution_count": null,
   "id": "594068bb",
   "metadata": {},
   "outputs": [],
   "source": []
  }
 ],
 "metadata": {
  "kernelspec": {
   "display_name": "Python 3 (ipykernel)",
   "language": "python",
   "name": "python3"
  },
  "language_info": {
   "codemirror_mode": {
    "name": "ipython",
    "version": 3
   },
   "file_extension": ".py",
   "mimetype": "text/x-python",
   "name": "python",
   "nbconvert_exporter": "python",
   "pygments_lexer": "ipython3",
   "version": "3.9.7"
  }
 },
 "nbformat": 4,
 "nbformat_minor": 5
}
