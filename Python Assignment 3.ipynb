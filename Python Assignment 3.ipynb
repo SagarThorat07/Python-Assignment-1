{
 "cells": [
  {
   "cell_type": "markdown",
   "id": "c5c0ba39",
   "metadata": {},
   "source": [
    "1. Why are functions advantageous to have in your programs?"
   ]
  },
  {
   "cell_type": "markdown",
   "id": "e1dc4614",
   "metadata": {},
   "source": [
    "Ans: Advantages of functions:\n",
    "     Functions make repetative tasks easier,\n",
    "     It makes programs short,\n",
    "     It makes program easy to read and update"
   ]
  },
  {
   "cell_type": "markdown",
   "id": "175c5689",
   "metadata": {},
   "source": [
    "2. When does the code in a function run: when it's specified or when it's called?"
   ]
  },
  {
   "cell_type": "markdown",
   "id": "ccd0c651",
   "metadata": {},
   "source": [
    "Ans: code in the function runs when the function is called\n"
   ]
  },
  {
   "cell_type": "markdown",
   "id": "f88f991d",
   "metadata": {},
   "source": [
    "3. What statement creates a function?"
   ]
  },
  {
   "cell_type": "markdown",
   "id": "ad627a75",
   "metadata": {},
   "source": [
    "Ans: def statement creates the function\n"
   ]
  },
  {
   "cell_type": "markdown",
   "id": "c7e05097",
   "metadata": {},
   "source": [
    "4. What is the difference between a function and a function call?"
   ]
  },
  {
   "cell_type": "markdown",
   "id": "37d12932",
   "metadata": {},
   "source": [
    "Ans: A function consists of a set of instructions or group of statements that together perform a task.\n",
    "    \n",
    "     A function call is a request made by a program that performs a predetermined function."
   ]
  },
  {
   "cell_type": "markdown",
   "id": "9e9d7d4a",
   "metadata": {},
   "source": [
    "5. How many global scopes are there in a Python program? How many local scopes?"
   ]
  },
  {
   "cell_type": "markdown",
   "id": "bc06c918",
   "metadata": {},
   "source": [
    "Ans:\n",
    "    There is only one global scope per program in python and local scope can be created as per requirement and when a function is called."
   ]
  },
  {
   "cell_type": "markdown",
   "id": "43246a21",
   "metadata": {},
   "source": [
    "6. What happens to variables in a local scope when the function call returns?"
   ]
  },
  {
   "cell_type": "markdown",
   "id": "77243779",
   "metadata": {},
   "source": [
    "Ans: When a function call returns the local scope gets deleted."
   ]
  },
  {
   "cell_type": "markdown",
   "id": "a51bd668",
   "metadata": {},
   "source": [
    "7. What is the concept of a return value? Is it possible to have a return value in an expression?"
   ]
  },
  {
   "cell_type": "markdown",
   "id": "a7bc7969",
   "metadata": {},
   "source": [
    "Ans: The value that a function returns to the caller is called return value.Basically a return value is the value which a function \n",
    "     gives after completing a perticular task.It is possible to have a return value in an expression"
   ]
  },
  {
   "cell_type": "markdown",
   "id": "a95ef6d7",
   "metadata": {},
   "source": [
    "8. If a function does not have a return statement, what is the return value of a call to that function?"
   ]
  },
  {
   "cell_type": "markdown",
   "id": "35dbb6f9",
   "metadata": {},
   "source": [
    "Ans: If a function does not have a return statement it will return nothing."
   ]
  },
  {
   "cell_type": "markdown",
   "id": "cbb7784e",
   "metadata": {},
   "source": [
    "9. How do you make a function variable refer to the global variable?"
   ]
  },
  {
   "cell_type": "markdown",
   "id": "2feb2026",
   "metadata": {},
   "source": [
    "Ans: To make a function variable refer to global variable we can use global keyword to declare the variable global."
   ]
  },
  {
   "cell_type": "markdown",
   "id": "c398612a",
   "metadata": {},
   "source": [
    "10. What is the data type of None?"
   ]
  },
  {
   "cell_type": "markdown",
   "id": "538e71bd",
   "metadata": {},
   "source": [
    "Ans: The data type of None is NoneType"
   ]
  },
  {
   "cell_type": "markdown",
   "id": "90502a76",
   "metadata": {},
   "source": [
    "11. What does the sentence import areallyourpetsnamederic do?"
   ]
  },
  {
   "cell_type": "markdown",
   "id": "4b2fffc3",
   "metadata": {},
   "source": [
    "Ans: That import statement imports a module named areallyourpetsnamederic but such module does not exist in python."
   ]
  },
  {
   "cell_type": "markdown",
   "id": "93143a94",
   "metadata": {},
   "source": [
    "12. If you had a bacon() feature in a spam module, what would you call it after importing spam?"
   ]
  },
  {
   "cell_type": "markdown",
   "id": "6dc79ae1",
   "metadata": {},
   "source": [
    "Ans: import spam\n",
    "    \n",
    "    spam.bacon()"
   ]
  },
  {
   "cell_type": "markdown",
   "id": "325e49a9",
   "metadata": {},
   "source": [
    "13. What can you do to save a programme from crashing if it encounters an error?"
   ]
  },
  {
   "cell_type": "markdown",
   "id": "e06115e7",
   "metadata": {},
   "source": [
    "Ans: We can use try except clause to save aprogram from crashing."
   ]
  },
  {
   "cell_type": "markdown",
   "id": "3782bba0",
   "metadata": {},
   "source": [
    "14. What is the purpose of the try clause? What is the purpose of the except clause?"
   ]
  },
  {
   "cell_type": "markdown",
   "id": "f8642650",
   "metadata": {},
   "source": [
    "Ans: Try and except clause are used to handle errors in the code.\n",
    "    \n",
    "    Try clause is used to check error in the code i.e. the code in the try block will execute when there is no error in the code\n",
    "    Code in the except block will execute when there is error in the code."
   ]
  },
  {
   "cell_type": "code",
   "execution_count": null,
   "id": "803d0705",
   "metadata": {},
   "outputs": [],
   "source": []
  }
 ],
 "metadata": {
  "kernelspec": {
   "display_name": "Python 3 (ipykernel)",
   "language": "python",
   "name": "python3"
  },
  "language_info": {
   "codemirror_mode": {
    "name": "ipython",
    "version": 3
   },
   "file_extension": ".py",
   "mimetype": "text/x-python",
   "name": "python",
   "nbconvert_exporter": "python",
   "pygments_lexer": "ipython3",
   "version": "3.9.7"
  }
 },
 "nbformat": 4,
 "nbformat_minor": 5
}
