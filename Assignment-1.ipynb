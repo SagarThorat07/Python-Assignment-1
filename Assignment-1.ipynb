{
 "cells": [
  {
   "cell_type": "raw",
   "id": "eeb45d13",
   "metadata": {},
   "source": [
    "1.In the below elements which of them are values or an expression? eg:- values can be integer or string and expressions will be mathematical operators.\n",
    "'hello'\n",
    "87.8\n",
    "/\n",
    "\n",
    "\n",
    "Ans: values: 'hello'(string), -87.8 (float) \n",
    "     Expresions: *, -, /, +"
   ]
  },
  {
   "cell_type": "raw",
   "id": "2aa24550",
   "metadata": {},
   "source": [
    "2. 2. What is the difference between string and variable?\n",
    "\n",
    "Ans: String: It is a information type that something we store in a variable./\n",
    "     Variable: VAriable acts like a storage in which we can assign a name or symbol as a variable and store information in it"
   ]
  },
  {
   "cell_type": "raw",
   "id": "8c8bd7ca",
   "metadata": {},
   "source": [
    "3. Describe three different data types.\n",
    "Ans:\n",
    "    1) String: A string is a collection of one or more characters put in a single, double or triple quotes.\n",
    "               Elements of string can be accesed through indexing.\n",
    "            \n",
    "    2) List:   A list is aordered collection of data put in a square bracket [] separated by comma.\n",
    "               List is mutable i.e. we can make changes in it once it is defined.\n",
    "               Elements of list can be accesed throught indexing as well as negative indexing.\n",
    "                \n",
    "    3) Tuple:  Tuple is a collection of ordered data put in a round bracket () separated by comma.\n",
    "               Tuples are immutable i.e. once a tuple is created we cannot make changes in it.\n",
    "               Elements of tuple can be accesed through indexing."
   ]
  },
  {
   "cell_type": "raw",
   "id": "de31d602",
   "metadata": {},
   "source": [
    "4. What is an expression made up of? What do all expressions do?\n",
    "\n",
    "Ans: An expression is a combination of operators and operands that is used to produce some other value"
   ]
  },
  {
   "cell_type": "raw",
   "id": "ccbf9e0c",
   "metadata": {},
   "source": [
    "5. This assignment statements, like spam = 10. What is the difference between an expression and a statement?\n",
    "\n",
    "Ans: An expression is a combination of operators and operands in return which is used to produce some other values,\n",
    "    while a statement is a standalone unit which does not return anything.\n"
   ]
  },
  {
   "cell_type": "raw",
   "id": "9eb02f18",
   "metadata": {},
   "source": [
    "6. After running the following code, what does the variable bacon contain?\n",
    "bacon = 22\n",
    "bacon + 1\n",
    "\n",
    "Ans: 23\n",
    "    "
   ]
  },
  {
   "cell_type": "raw",
   "id": "e4f318c3",
   "metadata": {},
   "source": [
    "7. What should the values of the following two terms be?\n",
    "'spam' + 'spamspam'\n",
    "'spam' * 3\n",
    "\n",
    "Ans: 'spamspamspam' It will return 'spam' 3 times\n"
   ]
  },
  {
   "cell_type": "raw",
   "id": "e60e71c5",
   "metadata": {},
   "source": [
    "8. Why is eggs a valid variable name while 100 is invalid?\n",
    "\n",
    "Ans: In python variable name can start with alphabets but it cannot start with a numeral.\n",
    "     Numeral can be used in between the variable name that is why eggs is a valid variable and 100 is not."
   ]
  },
  {
   "cell_type": "raw",
   "id": "8b6581f1",
   "metadata": {},
   "source": [
    "9. What three functions can be used to get the integer, floating-point number, or string version of a value?\n",
    "\n",
    "Ans: for integer the function used is: int()\n",
    "     for floating-point the function used is: float()\n",
    "     for string the function used is: string()"
   ]
  },
  {
   "cell_type": "raw",
   "id": "e9571c7f",
   "metadata": {},
   "source": [
    "10. Why does this expression cause an error? How can you fix it?\n",
    "'I have eaten ' + 99 + ' burritos.'\n",
    "\n",
    "Ans: Above expression will cause an error because when we concatenate two or more data types then those data types should be same.\n",
    "     In above expression 99 is integer type of data and other two are strings thats why the conactenation operation will give Type error.\n",
    "     To fix the above error we have to convert 99 into a string:\n",
    "        'I have eaten' + str('99') + 'burritos'\n",
    "        O/P: 'I have eaten 99 burritos.'"
   ]
  },
  {
   "cell_type": "code",
   "execution_count": 7,
   "id": "d1e6452c",
   "metadata": {},
   "outputs": [
    {
     "data": {
      "text/plain": [
       "'I have eaten 99 burritos.'"
      ]
     },
     "execution_count": 7,
     "metadata": {},
     "output_type": "execute_result"
    }
   ],
   "source": [
    "'I have eaten ' + str('99') + ' burritos.'\n"
   ]
  },
  {
   "cell_type": "code",
   "execution_count": null,
   "id": "c4c8fa98",
   "metadata": {},
   "outputs": [],
   "source": []
  }
 ],
 "metadata": {
  "kernelspec": {
   "display_name": "Python 3 (ipykernel)",
   "language": "python",
   "name": "python3"
  },
  "language_info": {
   "codemirror_mode": {
    "name": "ipython",
    "version": 3
   },
   "file_extension": ".py",
   "mimetype": "text/x-python",
   "name": "python",
   "nbconvert_exporter": "python",
   "pygments_lexer": "ipython3",
   "version": "3.9.7"
  }
 },
 "nbformat": 4,
 "nbformat_minor": 5
}
